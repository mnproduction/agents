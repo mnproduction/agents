{
 "cells": [
  {
   "cell_type": "markdown",
   "id": "21fa2e13-567d-4509-9023-c99fb230f31f",
   "metadata": {},
   "source": [
    "# LangGraph Components"
   ]
  },
  {
   "cell_type": "code",
   "execution_count": 1,
   "id": "f5762271-8736-4e94-9444-8c92bd0e8074",
   "metadata": {
    "height": 46
   },
   "outputs": [],
   "source": [
    "from dotenv import load_dotenv\n",
    "_ = load_dotenv()"
   ]
  },
  {
   "cell_type": "code",
   "execution_count": 14,
   "id": "d0168aee-bce9-4d60-b827-f86a88187e31",
   "metadata": {
    "height": 131
   },
   "outputs": [],
   "source": [
    "from langgraph.graph import StateGraph, END\n",
    "from typing import TypedDict, Annotated\n",
    "import operator\n",
    "from langchain_core.messages import AnyMessage, SystemMessage, HumanMessage, ToolMessage\n",
    "from langchain_openai import ChatOpenAI\n",
    "# from langchain_ollama import ChatOllama as ChatOpenAI\n",
    "from langchain_community.tools.tavily_search import TavilySearchResults"
   ]
  },
  {
   "cell_type": "code",
   "execution_count": 3,
   "id": "2589c5b6-6cc2-4594-9a17-dccdcf676054",
   "metadata": {
    "height": 80
   },
   "outputs": [
    {
     "name": "stdout",
     "output_type": "stream",
     "text": [
      "<class 'langchain_community.tools.tavily_search.tool.TavilySearchResults'>\n",
      "tavily_search_results_json\n"
     ]
    }
   ],
   "source": [
    "tool = TavilySearchResults(max_results=4) #increased number of results\n",
    "print(type(tool))\n",
    "print(tool.name)"
   ]
  },
  {
   "cell_type": "markdown",
   "id": "e196c186-af55-4f2d-b569-b7d63a859304",
   "metadata": {},
   "source": [
    "> If you are not familiar with python typing annotation, you can refer to the [python documents](https://docs.python.org/3/library/typing.html)."
   ]
  },
  {
   "cell_type": "code",
   "execution_count": 4,
   "id": "a2ba84ec-c172-4de7-ac55-e3158a531b23",
   "metadata": {
    "height": 63
   },
   "outputs": [],
   "source": [
    "class AgentState(TypedDict):\n",
    "    messages: Annotated[list[AnyMessage], operator.add]"
   ]
  },
  {
   "cell_type": "markdown",
   "id": "74c7ba73-e603-453b-b06f-5db92c567b19",
   "metadata": {},
   "source": [
    "> Note: in `take_action` below, some logic was added to cover the case that the LLM returned a non-existent tool name. Even with function calling, LLMs can still occasionally hallucinate. Note that all that is done is instructing the LLM to try again! An advantage of an agentic organization."
   ]
  },
  {
   "cell_type": "code",
   "execution_count": 5,
   "id": "876d5092-b8ef-4e38-b4d7-0e80c609bf7a",
   "metadata": {
    "height": 743
   },
   "outputs": [],
   "source": [
    "class Agent:\n",
    "\n",
    "    def __init__(self, model, tools, system=\"\"):\n",
    "        self.system = system\n",
    "        graph = StateGraph(AgentState)\n",
    "        graph.add_node(\"llm\", self.call_openai)\n",
    "        graph.add_node(\"action\", self.take_action)\n",
    "        graph.add_conditional_edges(\n",
    "            \"llm\",\n",
    "            self.exists_action,\n",
    "            {True: \"action\", False: END}\n",
    "        )\n",
    "        graph.add_edge(\"action\", \"llm\")\n",
    "        graph.set_entry_point(\"llm\")\n",
    "        self.graph = graph.compile()\n",
    "        self.tools = {t.name: t for t in tools}\n",
    "        self.model = model.bind_tools(tools)\n",
    "\n",
    "    def exists_action(self, state: AgentState):\n",
    "        result = state['messages'][-1]\n",
    "        return len(result.tool_calls) > 0\n",
    "\n",
    "    def call_openai(self, state: AgentState):\n",
    "        messages = state['messages']\n",
    "        if self.system:\n",
    "            messages = [SystemMessage(content=self.system)] + messages\n",
    "        message = self.model.invoke(messages)\n",
    "        return {'messages': [message]}\n",
    "\n",
    "    def take_action(self, state: AgentState):\n",
    "        tool_calls = state['messages'][-1].tool_calls\n",
    "        results = []\n",
    "        for t in tool_calls:\n",
    "            print(f\"Calling: {t}\")\n",
    "            if not t['name'] in self.tools:      # check for bad tool name from LLM\n",
    "                print(\"\\n ....bad tool name....\")\n",
    "                result = \"bad tool name, retry\"  # instruct LLM to retry if bad\n",
    "            else:\n",
    "                result = self.tools[t['name']].invoke(t['args'])\n",
    "            results.append(ToolMessage(tool_call_id=t['id'], name=t['name'], content=str(result)))\n",
    "        print(\"Back to the model!\")\n",
    "        return {'messages': results}"
   ]
  },
  {
   "cell_type": "code",
   "execution_count": 6,
   "id": "10084a02-2928-4945-9f7c-ad3f5b33caf7",
   "metadata": {
    "height": 165
   },
   "outputs": [],
   "source": [
    "prompt = \"\"\"You are a smart research assistant. Use the search engine to look up information. \\\n",
    "You are allowed to make multiple calls (either together or in sequence). \\\n",
    "Only look up information when you are sure of what you want. \\\n",
    "If you need to look up some information before asking a follow up question, you are allowed to do that!\n",
    "\"\"\"\n",
    "\n",
    "model = ChatOpenAI(model=\"llama3.2\")  #reduce inference cost\n",
    "abot = Agent(model, [tool], system=prompt)"
   ]
  },
  {
   "cell_type": "code",
   "execution_count": 7,
   "id": "83588e70-254f-4f83-a510-c8ae81e729b0",
   "metadata": {
    "height": 63
   },
   "outputs": [
    {
     "name": "stdout",
     "output_type": "stream",
     "text": [
      "Calling: {'name': 'tavily_search_results_json', 'args': {'query': 'sf weather'}, 'id': '939fc765-59c4-4dd4-9c24-f49c2d2a29c9', 'type': 'tool_call'}\n",
      "Back to the model!\n"
     ]
    }
   ],
   "source": [
    "messages = [HumanMessage(content=\"What is the weather in sf?\")]\n",
    "result = abot.graph.invoke({\"messages\": messages})"
   ]
  },
  {
   "cell_type": "code",
   "execution_count": 8,
   "id": "89a06a8c-fcd4-4ca6-98f0-36c5809813e6",
   "metadata": {
    "height": 29,
    "scrolled": true
   },
   "outputs": [
    {
     "data": {
      "text/plain": [
       "{'messages': [HumanMessage(content='What is the weather in sf?', additional_kwargs={}, response_metadata={}),\n",
       "  AIMessage(content='', additional_kwargs={}, response_metadata={'model': 'llama3.2', 'created_at': '2024-10-18T05:10:32.7644737Z', 'message': {'role': 'assistant', 'content': '', 'tool_calls': [{'function': {'name': 'tavily_search_results_json', 'arguments': {'query': 'sf weather'}}}]}, 'done_reason': 'stop', 'done': True, 'total_duration': 4192388900, 'load_duration': 3658318300, 'prompt_eval_count': 258, 'prompt_eval_duration': 224895000, 'eval_count': 22, 'eval_duration': 301408000}, id='run-72d1bd5d-e955-45e2-a949-17377dc5fc60-0', tool_calls=[{'name': 'tavily_search_results_json', 'args': {'query': 'sf weather'}, 'id': '939fc765-59c4-4dd4-9c24-f49c2d2a29c9', 'type': 'tool_call'}], usage_metadata={'input_tokens': 258, 'output_tokens': 22, 'total_tokens': 280}),\n",
       "  ToolMessage(content='[{\\'url\\': \\'https://www.weatherapi.com/\\', \\'content\\': \"{\\'location\\': {\\'name\\': \\'San Francisco\\', \\'region\\': \\'California\\', \\'country\\': \\'United States of America\\', \\'lat\\': 37.775, \\'lon\\': -122.4183, \\'tz_id\\': \\'America/Los_Angeles\\', \\'localtime_epoch\\': 1729228188, \\'localtime\\': \\'2024-10-17 22:09\\'}, \\'current\\': {\\'last_updated_epoch\\': 1729227600, \\'last_updated\\': \\'2024-10-17 22:00\\', \\'temp_c\\': 16.1, \\'temp_f\\': 61.0, \\'is_day\\': 0, \\'condition\\': {\\'text\\': \\'Clear\\', \\'icon\\': \\'//cdn.weatherapi.com/weather/64x64/night/113.png\\', \\'code\\': 1000}, \\'wind_mph\\': 14.3, \\'wind_kph\\': 23.0, \\'wind_degree\\': 358, \\'wind_dir\\': \\'N\\', \\'pressure_mb\\': 1014.0, \\'pressure_in\\': 29.94, \\'precip_mm\\': 0.0, \\'precip_in\\': 0.0, \\'humidity\\': 62, \\'cloud\\': 0, \\'feelslike_c\\': 16.1, \\'feelslike_f\\': 61.0, \\'windchill_c\\': 15.8, \\'windchill_f\\': 60.4, \\'heatindex_c\\': 15.8, \\'heatindex_f\\': 60.4, \\'dewpoint_c\\': 8.8, \\'dewpoint_f\\': 47.9, \\'vis_km\\': 16.0, \\'vis_miles\\': 9.0, \\'uv\\': 0.0, \\'gust_mph\\': 26.7, \\'gust_kph\\': 42.9}}\"}, {\\'url\\': \\'https://forecast.weather.gov/MapClick.php?lat=37.777120000000025&lon=-122.41965999999996\\', \\'content\\': \\'San Francisco CA . Fire Weather Watch October 17, 11:00am until October 19, 08:00pm. Click here for hazard details and duration. Fire Weather Watch. Columbus Day. High: 68 °F. ... 11am PDT Oct 14, 2024-6pm PDT Oct 20, 2024 . Forecast Discussion . Additional Resources. Radar & Satellite Image.\\'}, {\\'url\\': \\'https://weather.com/weather/monthly/l/69bedc6a5b6e977993fb3e5344e3c06d8bc36a1fb6754c3ddfb5310a3c6d6c87\\', \\'content\\': \\'Weather.com brings you the most accurate monthly weather forecast for San Francisco, ... 18 72 ° 52 ° 19. 74 ° 49 ° ... October: 70 ° 54 ° 0: November: 64 °\\'}, {\\'url\\': \\'https://world-weather.info/forecast/usa/san_francisco/october-2024/\\', \\'content\\': \\'Extended weather forecast in San Francisco. Hourly Week 10 days 14 days 30 days Year. Detailed ⚡ San Francisco Weather Forecast for October 2024 - day/night 🌡️ temperatures, precipitations - World-Weather.info.\\'}]', name='tavily_search_results_json', tool_call_id='939fc765-59c4-4dd4-9c24-f49c2d2a29c9'),\n",
       "  AIMessage(content='The current weather in San Francisco is clear with a temperature of 16.1°C (61.0°F). The wind is blowing at 14.3 mph (23.0 km/h) from the north, and the pressure is 1014.0 mb. There is no precipitation expected, and the humidity is at 62%.', additional_kwargs={}, response_metadata={'model': 'llama3.2', 'created_at': '2024-10-18T05:10:39.0527866Z', 'message': {'role': 'assistant', 'content': 'The current weather in San Francisco is clear with a temperature of 16.1°C (61.0°F). The wind is blowing at 14.3 mph (23.0 km/h) from the north, and the pressure is 1014.0 mb. There is no precipitation expected, and the humidity is at 62%.'}, 'done_reason': 'stop', 'done': True, 'total_duration': 1572624400, 'load_duration': 25769900, 'prompt_eval_count': 884, 'prompt_eval_duration': 467479000, 'eval_count': 70, 'eval_duration': 1071497000}, id='run-ff91c97c-fda0-454c-be6c-42b95b29c2ca-0', usage_metadata={'input_tokens': 884, 'output_tokens': 70, 'total_tokens': 954})]}"
      ]
     },
     "execution_count": 8,
     "metadata": {},
     "output_type": "execute_result"
    }
   ],
   "source": [
    "result"
   ]
  },
  {
   "cell_type": "code",
   "execution_count": 9,
   "id": "6cb3ef4c-58b3-401b-b104-0d51e553d982",
   "metadata": {
    "height": 29
   },
   "outputs": [
    {
     "data": {
      "text/plain": [
       "'The current weather in San Francisco is clear with a temperature of 16.1°C (61.0°F). The wind is blowing at 14.3 mph (23.0 km/h) from the north, and the pressure is 1014.0 mb. There is no precipitation expected, and the humidity is at 62%.'"
      ]
     },
     "execution_count": 9,
     "metadata": {},
     "output_type": "execute_result"
    }
   ],
   "source": [
    "result['messages'][-1].content"
   ]
  },
  {
   "cell_type": "code",
   "execution_count": 10,
   "id": "dc3293b7-a50c-43c8-a022-8975e1e444b8",
   "metadata": {
    "height": 63
   },
   "outputs": [
    {
     "name": "stdout",
     "output_type": "stream",
     "text": [
      "Calling: {'name': 'tavily_search_results_json', 'args': {'query': 'San Francisco weather today and Los Angeles weather today'}, 'id': '8b10e8c6-60c3-42e6-9627-b5cc111c237f', 'type': 'tool_call'}\n",
      "Back to the model!\n"
     ]
    }
   ],
   "source": [
    "messages = [HumanMessage(content=\"What is the weather in SF and LA?\")]\n",
    "result = abot.graph.invoke({\"messages\": messages})"
   ]
  },
  {
   "cell_type": "code",
   "execution_count": 11,
   "id": "0722c3d4-4cbf-43bf-81b0-50f634c4ce61",
   "metadata": {
    "height": 29
   },
   "outputs": [
    {
     "data": {
      "text/plain": [
       "\"Unfortunately, I was only able to retrieve information on the weather in LA. For SF, the available tool call results were incomplete.\\n\\nHowever, based on the provided search results, here is what we can infer about the current weather in Los Angeles:\\n\\nThe current weather conditions in Los Angeles are mostly cloudy with a temperature of 60.1°F (15.6°C). There is no precipitation reported, and the wind speed is 6.9 mph (11.2 km/h) from the northwest.\\n\\nAs for San Francisco, the available tool call results were incomplete, but it appears that the forecast predicts equal chances of above- and below-normal precipitation in California in winter 2024-25 due to a weak La Niña forecast. Additionally, NOAA predicts that San Francisco's normal December through February temperatures will be around 18.5°C (65.3°F) during the day.\\n\\nIt's worth noting that these results are subject to change and may not reflect the current weather conditions in either location. For more up-to-date information, I recommend checking a reliable weather source, such as the National Weather Service or a local news outlet.\""
      ]
     },
     "execution_count": 11,
     "metadata": {},
     "output_type": "execute_result"
    }
   ],
   "source": [
    "result['messages'][-1].content"
   ]
  },
  {
   "cell_type": "code",
   "execution_count": 15,
   "id": "6b2f82fe-3ec4-4917-be51-9fb10d1317fa",
   "metadata": {
    "height": 199
   },
   "outputs": [
    {
     "name": "stdout",
     "output_type": "stream",
     "text": [
      "Calling: {'name': 'tavily_search_results_json', 'args': {'query': 'NYSE trading session October 17 2024'}, 'id': 'call_IzEncWb0YUwxQuMzedw0SY5n', 'type': 'tool_call'}\n",
      "Calling: {'name': 'tavily_search_results_json', 'args': {'query': 'market outlook October 18 2024'}, 'id': 'call_9Bac2W6Rpug0pp9IYLTyaQSM', 'type': 'tool_call'}\n",
      "Calling: {'name': 'tavily_search_results_json', 'args': {'query': 'significant news events October 18 2024'}, 'id': 'call_hdjpdLNpvnvOd57Kz7fKn0g8', 'type': 'tool_call'}\n",
      "Back to the model!\n"
     ]
    }
   ],
   "source": [
    "# Note, the query was modified to produce more consistent results. \n",
    "# Results may vary per run and over time as search information and models change.\n",
    "\n",
    "query = \"How was the trading session in NYSE yesterday (17 October 2024) and what was the mood of the market? What may we expect for today? Do we have a significant news event today?\" \n",
    "messages = [HumanMessage(content=query)]\n",
    "\n",
    "model = ChatOpenAI(model=\"gpt-4o\")  # requires more advanced model\n",
    "abot = Agent(model, [tool], system=prompt)\n",
    "result = abot.graph.invoke({\"messages\": messages})"
   ]
  },
  {
   "cell_type": "code",
   "execution_count": 16,
   "id": "ee0fe1c7-77e2-499c-a2f9-1f739bb6ddf0",
   "metadata": {
    "height": 29
   },
   "outputs": [
    {
     "name": "stdout",
     "output_type": "stream",
     "text": [
      "### NYSE Trading Session on October 17, 2024\n",
      "\n",
      "The trading session on October 17, 2024, saw advancers outnumbering decliners on the NYSE by a 2.38-to-1 ratio. This indicates a generally positive sentiment in the market as more stocks were advancing than declining. The trading volume was slightly lower than the average, but the overall mood seemed optimistic.\n",
      "\n",
      "- Source: [Nasdaq](https://www.nasdaq.com/articles/stock-market-news-oct-17-2024)\n",
      "\n",
      "### Market Outlook for October 18, 2024\n",
      "\n",
      "The market outlook for today, October 18, 2024, is cautiously optimistic. With recent strong gains in stocks and bonds, investors seem hopeful about the end of the Federal Reserve's rate-hiking cycle. However, it's important to note that upcoming U.S. presidential elections and geopolitical risks may introduce volatility in the near term.\n",
      "\n",
      "- Source: [Fidelity](https://www.fidelity.com/learning-center/trading-investing/stock-market-outlook), [Investopedia](https://www.investopedia.com/what-to-expect-stock-market-q4-2024-rate-cuts-election-8720655)\n",
      "\n",
      "### Significant News Events on October 18, 2024\n",
      "\n",
      "Today's news highlights include the death of former One Direction member Liam Payne, which dominated headlines due to a tragic incident in Buenos Aires. Additionally, geopolitical tensions involving Israel, Iran, and Lebanon are ongoing concerns that could impact market sentiment.\n",
      "\n",
      "- Source: [ITV](https://www.itv.com/news/2024-10-18/what-the-papers-say-october-18), [CNN](https://www.cnn.com/world/live-news/israel-iran-lebanon-gaza-war-10-15-24-intl-hnk/index.html)\n",
      "\n",
      "Overall, while the market sentiment appears positive, investors should remain aware of geopolitical risks and major news events that could influence market movements.\n"
     ]
    }
   ],
   "source": [
    "print(result['messages'][-1].content)"
   ]
  },
  {
   "cell_type": "code",
   "execution_count": null,
   "id": "1d643182-2802-40fb-ba35-d4f893c5b976",
   "metadata": {
    "height": 29
   },
   "outputs": [],
   "source": []
  }
 ],
 "metadata": {
  "kernelspec": {
   "display_name": "Python 3 (ipykernel)",
   "language": "python",
   "name": "python3"
  },
  "language_info": {
   "codemirror_mode": {
    "name": "ipython",
    "version": 3
   },
   "file_extension": ".py",
   "mimetype": "text/x-python",
   "name": "python",
   "nbconvert_exporter": "python",
   "pygments_lexer": "ipython3",
   "version": "3.12.0"
  }
 },
 "nbformat": 4,
 "nbformat_minor": 5
}
