{
 "cells": [
  {
   "cell_type": "markdown",
   "metadata": {},
   "source": [
    "\n",
    "# PROCESS\n",
    "\n",
    "## Agentic system to retrieve financial data about a company:\n",
    "1. Using LlamaIndex\n",
    "2. Using Anthropic : Claude 3.5 sonnet\n",
    "3. Using Financial Modeling Prep API, in which you can provide several information:\n",
    "    - Stock Prices, EPS, PE,...\n",
    "    - Company basic information: Sector, Industry, Market Cap, description, beta,...\n",
    "    - Income statement\n",
    "\n",
    "## You can also fetch from Financial Modeling Prep API:\n",
    "- Balance Sheet\n",
    "- Cash Flow\n",
    "- Key Metrics\n",
    "\n",
    "## Other endpoints are not free:\n",
    "- News\n",
    "- News Sentiment\n",
    "- ..."
   ]
  },
  {
   "cell_type": "code",
   "execution_count": 6,
   "metadata": {},
   "outputs": [
    {
     "name": "stdout",
     "output_type": "stream",
     "text": [
      "Note: you may need to restart the kernel to use updated packages.\n",
      "Note: you may need to restart the kernel to use updated packages.\n",
      "Note: you may need to restart the kernel to use updated packages.\n"
     ]
    }
   ],
   "source": [
    "%pip install llama-index-llms-anthropic -q\n",
    "%pip install llama-index -q\n",
    "%pip install python-dotenv -q"
   ]
  },
  {
   "cell_type": "code",
   "execution_count": 7,
   "metadata": {},
   "outputs": [],
   "source": [
    "# from llama_index.llms.anthropic import Anthropic\n",
    "\n",
    "from llama_index.llms.openai import OpenAI\n",
    "from llama_index.core.tools import FunctionTool"
   ]
  },
  {
   "cell_type": "code",
   "execution_count": 8,
   "metadata": {},
   "outputs": [],
   "source": [
    "import nest_asyncio\n",
    "nest_asyncio.apply()"
   ]
  },
  {
   "cell_type": "markdown",
   "metadata": {},
   "source": [
    "# LLM and API keys"
   ]
  },
  {
   "cell_type": "code",
   "execution_count": 9,
   "metadata": {},
   "outputs": [
    {
     "data": {
      "text/plain": [
       "True"
      ]
     },
     "execution_count": 9,
     "metadata": {},
     "output_type": "execute_result"
    }
   ],
   "source": [
    "from dotenv import load_dotenv\n",
    "import os\n",
    "import requests\n",
    "load_dotenv()"
   ]
  },
  {
   "cell_type": "code",
   "execution_count": 10,
   "metadata": {},
   "outputs": [],
   "source": [
    "OPENAI_API_KEY = os.getenv(\"OPENAI_API_KEY\")\n",
    "FINANCIAL_MODELING_PREP_API_KEY = os.getenv(\"FINANCIAL_MODELING_PREP_API_KEY\")"
   ]
  },
  {
   "cell_type": "code",
   "execution_count": 19,
   "metadata": {},
   "outputs": [],
   "source": [
    "llm = OpenAI(model=\"gpt-4o\", api_key=OPENAI_API_KEY)"
   ]
  },
  {
   "cell_type": "markdown",
   "metadata": {},
   "source": [
    "## get_stock_price"
   ]
  },
  {
   "cell_type": "code",
   "execution_count": 12,
   "metadata": {},
   "outputs": [],
   "source": [
    "# Define the functions that will fetch financial data\n",
    "def get_stock_price(symbol: str):\n",
    "    \"\"\"\n",
    "    Fetch the current stock price for the given symbol, the current volume, the average price 50d and 200d, EPS, PE and the next earnings Announcement.\n",
    "    \"\"\"\n",
    "    url = f\"https://financialmodelingprep.com/api/v3/quote-order/{symbol}?apikey={FINANCIAL_MODELING_PREP_API_KEY}\"\n",
    "    response = requests.get(url)\n",
    "    data = response.json()\n",
    "    try:\n",
    "        price = data[0]['price']\n",
    "        volume = data[0]['volume']\n",
    "        priceAvg50 = data[0]['priceAvg50']\n",
    "        priceAvg200 = data[0]['priceAvg200']\n",
    "        eps = data[0]['eps']\n",
    "        pe = data[0]['pe']\n",
    "        earningsAnnouncement = data[0]['earningsAnnouncement']\n",
    "        return {\"symbol\": symbol.upper(), \"price\": price, \"volume\":volume,\"priceAvg50\":priceAvg50, \"priceAvg200\":priceAvg200, \"EPS\":eps, \"PE\":pe, \"earningsAnnouncement\":earningsAnnouncement }\n",
    "    except (IndexError, KeyError):\n",
    "        return {\"error\": f\"Could not fetch price for symbol: {symbol}\"}\n",
    "\n",
    "## DATA PROVIDED BY THIS ENDPOINT:\n",
    "# [{'symbol': 'AAPL',\n",
    "#   'name': 'Apple Inc.',\n",
    "#   'price': 222.5,\n",
    "#   'changesPercentage': -0.1212,\n",
    "#   'change': -0.27,\n",
    "#   'dayLow': 221.91,\n",
    "#   'dayHigh': 224.03,\n",
    "#   'yearHigh': 237.23,\n",
    "#   'yearLow': 164.08,\n",
    "#   'marketCap': 3382912250000,\n",
    "#   'priceAvg50': 223.0692,\n",
    "#   'priceAvg200': 195.382,\n",
    "#   'exchange': 'NASDAQ',\n",
    "#   'volume': 35396922,\n",
    "#   'avgVolume': 57548506,\n",
    "#   'open': 223.58,\n",
    "#   'previousClose': 222.77,\n",
    "#   'eps': 6.57,\n",
    "#   'pe': 33.87,\n",
    "#   'earningsAnnouncement': '2024-10-31T00:00:00.000+0000',\n",
    "#   'sharesOutstanding': 15204100000,\n",
    "#   'timestamp': 1726257601}]"
   ]
  },
  {
   "cell_type": "markdown",
   "metadata": {},
   "source": [
    "## get_company_financials"
   ]
  },
  {
   "cell_type": "code",
   "execution_count": 13,
   "metadata": {},
   "outputs": [],
   "source": [
    "def get_company_financials(symbol):\n",
    "    \"\"\"\n",
    "    Fetch basic financial information for the given company symbol such as the industry, the sector, the name of the company, and the market capitalization.\n",
    "    \"\"\"\n",
    "    url = f\"https://financialmodelingprep.com/api/v3/profile/{symbol}?apikey={FINANCIAL_MODELING_PREP_API_KEY}\"\n",
    "    response = requests.get(url)\n",
    "    data = response.json()\n",
    "    try:\n",
    "        results = data[0]\n",
    "        financials = {\n",
    "            \"symbol\": results[\"symbol\"],\n",
    "            \"companyName\": results[\"companyName\"],\n",
    "            \"marketCap\": results[\"mktCap\"],\n",
    "            \"industry\": results[\"industry\"],\n",
    "            \"sector\": results[\"sector\"],\n",
    "            \"website\": results[\"website\"],\n",
    "            \"beta\":results[\"beta\"],\n",
    "            \"price\":results[\"price\"],\n",
    "        }\n",
    "        return financials\n",
    "    except (IndexError, KeyError):\n",
    "        return {\"error\": f\"Could not fetch financials for symbol: {symbol}\"}\n",
    "\n",
    "## DATA PROVIDED BY THIS ENDPOINT:\n",
    "# [{'symbol': 'AAPL',\n",
    "#   'price': 222.5,\n",
    "#   'beta': 1.24,\n",
    "#   'volAvg': 57548506,\n",
    "#   'mktCap': 3382912250000,\n",
    "#   'lastDiv': 1,\n",
    "#   'range': '164.08-237.23',\n",
    "#   'changes': -0.27,\n",
    "#   'companyName': 'Apple Inc.',\n",
    "#   'currency': 'USD',\n",
    "#   'cik': '0000320193',\n",
    "#   'isin': 'US0378331005',\n",
    "#   'cusip': '037833100',\n",
    "#   'exchange': 'NASDAQ Global Select',\n",
    "#   'exchangeShortName': 'NASDAQ',\n",
    "#   'industry': 'Consumer Electronics',\n",
    "#   'website': 'https://www.apple.com',\n",
    "#   'description': 'Apple Inc. designs, manufactures, and markets smartphones, personal computers, tablets, wearables, and accessories worldwide. The company offers iPhone, a line of smartphones; Mac, a line of personal computers; iPad, a line of multi-purpose tablets; and wearables, home, and accessories comprising AirPods, Apple TV, Apple Watch, Beats products, and HomePod. It also provides AppleCare support and cloud services; and operates various platforms, including the App Store that allow customers to discover and download applications and digital content, such as books, music, video, games, and podcasts. In addition, the company offers various services, such as Apple Arcade, a game subscription service; Apple Fitness+, a personalized fitness service; Apple Music, which offers users a curated listening experience with on-demand radio stations; Apple News+, a subscription news and magazine service; Apple TV+, which offers exclusive original content; Apple Card, a co-branded credit card; and Apple Pay, a cashless payment service, as well as licenses its intellectual property. The company serves consumers, and small and mid-sized businesses; and the education, enterprise, and government markets. It distributes third-party applications for its products through the App Store. The company also sells its products through its retail and online stores, and direct sales force; and third-party cellular network carriers, wholesalers, retailers, and resellers. Apple Inc. was incorporated in 1977 and is headquartered in Cupertino, California.',\n",
    "#   'ceo': 'Mr. Timothy D. Cook',\n",
    "#   'sector': 'Technology',\n",
    "#   'country': 'US',\n",
    "#   'fullTimeEmployees': '161000',\n",
    "#   'phone': '408 996 1010',\n",
    "#   'address': 'One Apple Park Way',\n",
    "#   'city': 'Cupertino',\n",
    "#   'state': 'CA',\n",
    "#   'zip': '95014',\n",
    "#   'dcfDiff': 55.70546,\n",
    "#   'dcf': 166.79453554058594,\n",
    "#   'image': 'https://financialmodelingprep.com/image-stock/AAPL.png',\n",
    "#   'ipoDate': '1980-12-12',\n",
    "#   'defaultImage': False,\n",
    "#   'isEtf': False,\n",
    "#   'isActivelyTrading': True,\n",
    "#   'isAdr': False,\n",
    "#   'isFund': False}]"
   ]
  },
  {
   "cell_type": "markdown",
   "metadata": {},
   "source": [
    "## get_income_statement"
   ]
  },
  {
   "cell_type": "code",
   "execution_count": 14,
   "metadata": {},
   "outputs": [],
   "source": [
    "def get_income_statement(symbol):\n",
    "    \"\"\"\n",
    "    Fetch last income statement for the given company symbol such as revenue, gross profit, net income, EBITDA, EPS.\n",
    "    \"\"\"\n",
    "    url = f\"https://financialmodelingprep.com/api/v3/income-statement/{symbol}?period=annual&apikey={FINANCIAL_MODELING_PREP_API_KEY}\"\n",
    "    response = requests.get(url)\n",
    "    data = response.json()\n",
    "    try:\n",
    "        results = data[0]\n",
    "        financials = {\n",
    "            \"date\": results[\"date\"],\n",
    "            \"revenue\": results[\"revenue\"],\n",
    "            \"gross profit\": results[\"grossProfit\"],\n",
    "            \"net Income\": results[\"netIncome\"],\n",
    "            \"ebitda\": results[\"ebitda\"],\n",
    "            \"EPS\": results[\"eps\"],\n",
    "            \"EPS diluted\":results[\"epsdiluted\"]\n",
    "        }\n",
    "        return data, financials\n",
    "    except (IndexError, KeyError):\n",
    "        return {\"error\": f\"Could not fetch financials for symbol: {symbol}\"}\n",
    "\n",
    "## DATA PROVIDED BY THIS ENDPOINT:\n",
    "# {'date': '2023-09-30',\n",
    "#   'symbol': 'AAPL',\n",
    "#   'reportedCurrency': 'USD',\n",
    "#   'cik': '0000320193',\n",
    "#   'fillingDate': '2023-11-03',\n",
    "#   'acceptedDate': '2023-11-02 18:08:27',\n",
    "#   'calendarYear': '2023',\n",
    "#   'period': 'FY',\n",
    "#   'revenue': 383285000000,\n",
    "#   'costOfRevenue': 214137000000,\n",
    "#   'grossProfit': 169148000000,\n",
    "#   'grossProfitRatio': 0.4413112958,\n",
    "#   'researchAndDevelopmentExpenses': 29915000000,\n",
    "#   'generalAndAdministrativeExpenses': 0,\n",
    "#   'sellingAndMarketingExpenses': 0,\n",
    "#   'sellingGeneralAndAdministrativeExpenses': 24932000000,\n",
    "#   'otherExpenses': 382000000,\n",
    "#   'operatingExpenses': 55229000000,\n",
    "#   'costAndExpenses': 269366000000,\n",
    "#   'interestIncome': 3750000000,\n",
    "#   'interestExpense': 3933000000,\n",
    "#   'depreciationAndAmortization': 11519000000,\n",
    "#   'ebitda': 125820000000,\n",
    "#   'ebitdaratio': 0.3282674772,\n",
    "#   'operatingIncome': 114301000000,\n",
    "#   'operatingIncomeRatio': 0.2982141227,\n",
    "#   'totalOtherIncomeExpensesNet': -565000000,\n",
    "#   'incomeBeforeTax': 113736000000,\n",
    "#   'incomeBeforeTaxRatio': 0.2967400237,\n",
    "#   'incomeTaxExpense': 16741000000,\n",
    "#   'netIncome': 96995000000,\n",
    "#   'netIncomeRatio': 0.2530623426,\n",
    "#   'eps': 6.16,\n",
    "#   'epsdiluted': 6.13,\n",
    "#   'weightedAverageShsOut': 15744231000,\n",
    "#   'weightedAverageShsOutDil': 15812547000,\n",
    "#   'link': 'https://www.sec.gov/Archives/edgar/data/320193/000032019323000106/0000320193-23-000106-index.htm',\n",
    "#   'finalLink': 'https://www.sec.gov/Archives/edgar/data/320193/000032019323000106/aapl-20230930.htm'}"
   ]
  },
  {
   "cell_type": "markdown",
   "metadata": {},
   "source": [
    "# Agent"
   ]
  },
  {
   "cell_type": "markdown",
   "metadata": {},
   "source": [
    "## Convert the functions to tools function"
   ]
  },
  {
   "cell_type": "code",
   "execution_count": 15,
   "metadata": {},
   "outputs": [],
   "source": [
    "tool_stock_price = FunctionTool.from_defaults(fn=get_stock_price)\n",
    "tool_company_financials = FunctionTool.from_defaults(fn=get_company_financials)\n",
    "tool_income_statement = FunctionTool.from_defaults(fn=get_income_statement)"
   ]
  },
  {
   "cell_type": "markdown",
   "metadata": {},
   "source": [
    "## Create Agent by incorporating the predefined tools:"
   ]
  },
  {
   "cell_type": "code",
   "execution_count": 23,
   "metadata": {},
   "outputs": [],
   "source": [
    "\n",
    "from llama_index.core.agent import FunctionCallingAgent\n",
    "\n",
    "agent = FunctionCallingAgent.from_tools(\n",
    "    [tool_stock_price, tool_company_financials, tool_income_statement],\n",
    "    llm=llm,\n",
    "    verbose=True,\n",
    "    allow_parallel_tool_calls=False,\n",
    "    system_prompt=\"\"\"\n",
    "    You are an AI financial analyst with strong knowledge of financial data and financial modeling. \n",
    "    You are provided with tools to fetch financial data from Financial Modeling Prep API. \n",
    "    You can use these tools to answer questions about a company's financial data.\n",
    "    Your primary goal is to answer questions directly using the tools provided to you.\n",
    "    You can then make a summary of the information you have retrieved, add your comments and then provide the final answer to the user.\n",
    "    \"\"\",\n",
    ")\n",
    "     "
   ]
  },
  {
   "cell_type": "markdown",
   "metadata": {},
   "source": [
    "# Start chatting\n"
   ]
  },
  {
   "cell_type": "code",
   "execution_count": 24,
   "metadata": {},
   "outputs": [
    {
     "name": "stdout",
     "output_type": "stream",
     "text": [
      "> Running step 92fd7ddc-e101-498d-bd80-67d8122a393f. Step input: Give me the current price of Tesla\n",
      "Added user message to memory: Give me the current price of Tesla\n",
      "=== Calling Function ===\n",
      "Calling function: get_stock_price with args: {\"symbol\": \"TSLA\"}\n",
      "=== Function Output ===\n",
      "{'symbol': 'TSLA', 'price': 219.0332, 'volume': 55962005, 'priceAvg50': 225.536, 'priceAvg200': 202.12495, 'EPS': 3.55, 'PE': 61.7, 'earningsAnnouncement': '2024-10-23T20:00:00.000+0000'}\n",
      "> Running step 99fe75e2-3a5d-4a93-b900-503ef9db9825. Step input: None\n",
      "=== LLM Response ===\n",
      "The current stock price of Tesla (TSLA) is $219.03.\n",
      "The current stock price of Tesla (TSLA) is $219.03.\n"
     ]
    }
   ],
   "source": [
    "query= \"Give me the current price of Tesla\"\n",
    "response = agent.chat(query)\n",
    "print(str(response))"
   ]
  },
  {
   "cell_type": "code",
   "execution_count": 25,
   "metadata": {},
   "outputs": [
    {
     "name": "stdout",
     "output_type": "stream",
     "text": [
      "> Running step 34bf4995-080c-43d7-9b7d-e71311ec44b2. Step input: What was the last revenue reported by Tesla\n",
      "Added user message to memory: What was the last revenue reported by Tesla\n",
      "=== Calling Function ===\n",
      "Calling function: get_income_statement with args: {\"symbol\": \"TSLA\"}\n",
      "=== Function Output ===\n",
      "([{'date': '2023-12-31', 'symbol': 'TSLA', 'reportedCurrency': 'USD', 'cik': '0001318605', 'fillingDate': '2024-01-29', 'acceptedDate': '2024-01-26 21:00:20', 'calendarYear': '2023', 'period': 'FY', 'revenue': 96773000000, 'costOfRevenue': 79113000000, 'grossProfit': 17660000000, 'grossProfitRatio': 0.1824889174, 'researchAndDevelopmentExpenses': 3969000000, 'generalAndAdministrativeExpenses': 0, 'sellingAndMarketingExpenses': 0, 'sellingGeneralAndAdministrativeExpenses': 4800000000, 'otherExpenses': 172000000, 'operatingExpenses': 8769000000, 'costAndExpenses': 87882000000, 'interestIncome': 1066000000, 'interestExpense': 156000000, 'depreciationAndAmortization': 4667000000, 'ebitda': 14796000000, 'ebitdaratio': 0.1528938857, 'operatingIncome': 8891000000, 'operatingIncomeRatio': 0.0918747998, 'totalOtherIncomeExpensesNet': 172000000, 'incomeBeforeTax': 9973000000, 'incomeBeforeTaxRatio': 0.1030556044, 'incomeTaxExpense': -5001000000, 'netIncome': 14999000000, 'netIncomeRatio': 0.1549915782, 'eps': 4.73, 'epsdiluted': 4.3, 'weightedAverageShsOut': 3174000000, 'weightedAverageShsOutDil': 3485000000, 'link': 'https://www.sec.gov/Archives/edgar/data/1318605/000162828024002390/0001628280-24-002390-index.htm', 'finalLink': 'https://www.sec.gov/Archives/edgar/data/1318605/000162828024002390/tsla-20231231.htm'}, {'date': '2022-12-31', 'symbol': 'TSLA', 'reportedCurrency': 'USD', 'cik': '0001318605', 'fillingDate': '2023-01-31', 'acceptedDate': '2023-01-30 21:29:15', 'calendarYear': '2022', 'period': 'FY', 'revenue': 81462000000, 'costOfRevenue': 60609000000, 'grossProfit': 20853000000, 'grossProfitRatio': 0.2559843854, 'researchAndDevelopmentExpenses': 3075000000, 'generalAndAdministrativeExpenses': 0, 'sellingAndMarketingExpenses': 0, 'sellingGeneralAndAdministrativeExpenses': 3946000000, 'otherExpenses': -43000000, 'operatingExpenses': 7021000000, 'costAndExpenses': 67630000000, 'interestIncome': 297000000, 'interestExpense': 191000000, 'depreciationAndAmortization': 3543000000, 'ebitda': 17833000000, 'ebitdaratio': 0.2189118853, 'operatingIncome': 13656000000, 'operatingIncomeRatio': 0.167636444, 'totalOtherIncomeExpensesNet': 63000000, 'incomeBeforeTax': 13719000000, 'incomeBeforeTaxRatio': 0.1684098107, 'incomeTaxExpense': 1132000000, 'netIncome': 12583000000, 'netIncomeRatio': 0.1544646584, 'eps': 4.02, 'epsdiluted': 3.62, 'weightedAverageShsOut': 3130000000, 'weightedAverageShsOutDil': 3475000000, 'link': 'https://www.sec.gov/Archives/edgar/data/1318605/000095017023001409/0000950170-23-001409-index.htm', 'finalLink': 'https://www.sec.gov/Archives/edgar/data/1318605/000095017023001409/tsla-20221231.htm'}, {'date': '2021-12-31', 'symbol': 'TSLA', 'reportedCurrency': 'USD', 'cik': '0001318605', 'fillingDate': '2022-05-02', 'acceptedDate': '2022-04-29 18:05:17', 'calendarYear': '2021', 'period': 'FY', 'revenue': 53823000000, 'costOfRevenue': 40217000000, 'grossProfit': 13606000000, 'grossProfitRatio': 0.2527915575, 'researchAndDevelopmentExpenses': 2593000000, 'generalAndAdministrativeExpenses': 0, 'sellingAndMarketingExpenses': 0, 'sellingGeneralAndAdministrativeExpenses': 4517000000, 'otherExpenses': 135000000, 'operatingExpenses': 7110000000, 'costAndExpenses': 47327000000, 'interestIncome': 56000000, 'interestExpense': 371000000, 'depreciationAndAmortization': 2911000000, 'ebitda': 9598000000, 'ebitdaratio': 0.1783252513, 'operatingIncome': 6687000000, 'operatingIncomeRatio': 0.1242405663, 'totalOtherIncomeExpensesNet': -344000000, 'incomeBeforeTax': 6343000000, 'incomeBeforeTaxRatio': 0.1178492466, 'incomeTaxExpense': 699000000, 'netIncome': 5524000000, 'netIncomeRatio': 0.1026327035, 'eps': 1.87, 'epsdiluted': 1.63, 'weightedAverageShsOut': 2957999940, 'weightedAverageShsOutDil': 3386999932, 'link': 'https://www.sec.gov/Archives/edgar/data/1318605/000156459022016871/0001564590-22-016871-index.htm', 'finalLink': 'https://www.sec.gov/Archives/edgar/data/1318605/000156459022016871/tsla-10ka_20211231.htm'}, {'date': '2020-12-31', 'symbol': 'TSLA', 'reportedCurrency': 'USD', 'cik': '0001318605', 'fillingDate': '2021-02-08', 'acceptedDate': '2021-02-08 07:27:23', 'calendarYear': '2020', 'period': 'FY', 'revenue': 31536000000, 'costOfRevenue': 24906000000, 'grossProfit': 6630000000, 'grossProfitRatio': 0.2102359209, 'researchAndDevelopmentExpenses': 1491000000, 'generalAndAdministrativeExpenses': 0, 'sellingAndMarketingExpenses': 0, 'sellingGeneralAndAdministrativeExpenses': 3145000000, 'otherExpenses': -122000000, 'operatingExpenses': 4636000000, 'costAndExpenses': 29542000000, 'interestIncome': 30000000, 'interestExpense': 748000000, 'depreciationAndAmortization': 2322000000, 'ebitda': 4224000000, 'ebitdaratio': 0.1339421613, 'operatingIncome': 1994000000, 'operatingIncomeRatio': 0.0632293252, 'totalOtherIncomeExpensesNet': -840000000, 'incomeBeforeTax': 1154000000, 'incomeBeforeTaxRatio': 0.0365930999, 'incomeTaxExpense': 292000000, 'netIncome': 721000000, 'netIncomeRatio': 0.02286276, 'eps': 0.25, 'epsdiluted': 0.21, 'weightedAverageShsOut': 2798999944, 'weightedAverageShsOutDil': 3248999935, 'link': 'https://www.sec.gov/Archives/edgar/data/1318605/000156459021004599/0001564590-21-004599-index.htm', 'finalLink': 'https://www.sec.gov/Archives/edgar/data/1318605/000156459021004599/tsla-10k_20201231.htm'}, {'date': '2019-12-31', 'symbol': 'TSLA', 'reportedCurrency': 'USD', 'cik': '0001318605', 'fillingDate': '2020-02-13', 'acceptedDate': '2020-02-13 07:12:18', 'calendarYear': '2019', 'period': 'FY', 'revenue': 24578000000, 'costOfRevenue': 20509000000, 'grossProfit': 4069000000, 'grossProfitRatio': 0.165554561, 'researchAndDevelopmentExpenses': 1343000000, 'generalAndAdministrativeExpenses': 0, 'sellingAndMarketingExpenses': 0, 'sellingGeneralAndAdministrativeExpenses': 2646000000, 'otherExpenses': 45000000, 'operatingExpenses': 3989000000, 'costAndExpenses': 24498000000, 'interestIncome': 44000000, 'interestExpense': 685000000, 'depreciationAndAmortization': 2154000000, 'ebitda': 2323000000, 'ebitdaratio': 0.0945154203, 'operatingIncome': 169000000, 'operatingIncomeRatio': 0.006876068, 'totalOtherIncomeExpensesNet': -834000000, 'incomeBeforeTax': -665000000, 'incomeBeforeTaxRatio': -0.0270567174, 'incomeTaxExpense': 110000000, 'netIncome': -775000000, 'netIncomeRatio': -0.0315322646, 'eps': -0.29, 'epsdiluted': -0.29, 'weightedAverageShsOut': 2660999946, 'weightedAverageShsOutDil': 2660999946, 'link': 'https://www.sec.gov/Archives/edgar/data/1318605/000156459020004475/0001564590-20-004475-index.htm', 'finalLink': 'https://www.sec.gov/Archives/edgar/data/1318605/000156459020004475/tsla-10k_20191231.htm'}], {'date': '2023-12-31', 'revenue': 96773000000, 'gross profit': 17660000000, 'net Income': 14999000000, 'ebitda': 14796000000, 'EPS': 4.73, 'EPS diluted': 4.3})\n",
      "> Running step 11f17031-9400-4f95-9566-318051b5eddd. Step input: None\n",
      "=== LLM Response ===\n",
      "Tesla's last reported revenue was $96.77 billion for the fiscal year ending on December 31, 2023.\n",
      "Tesla's last reported revenue was $96.77 billion for the fiscal year ending on December 31, 2023.\n"
     ]
    }
   ],
   "source": [
    "query= \"What was the last revenue reported by Tesla\"\n",
    "response = agent.chat(query)\n",
    "print(str(response))"
   ]
  }
 ],
 "metadata": {
  "kernelspec": {
   "display_name": ".venv",
   "language": "python",
   "name": "python3"
  },
  "language_info": {
   "codemirror_mode": {
    "name": "ipython",
    "version": 3
   },
   "file_extension": ".py",
   "mimetype": "text/x-python",
   "name": "python",
   "nbconvert_exporter": "python",
   "pygments_lexer": "ipython3",
   "version": "3.12.0"
  }
 },
 "nbformat": 4,
 "nbformat_minor": 2
}
