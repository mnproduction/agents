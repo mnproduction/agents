{
 "cells": [
  {
   "cell_type": "code",
   "execution_count": 2,
   "metadata": {},
   "outputs": [],
   "source": [
    "from dotenv import load_dotenv\n",
    "import os\n",
    "\n",
    "load_dotenv()\n",
    "\n",
    "OPENAI_API_KEY = os.getenv(\"OPENAI_API_KEY\")\n"
   ]
  },
  {
   "cell_type": "code",
   "execution_count": 3,
   "metadata": {},
   "outputs": [],
   "source": [
    "from swarm import Swarm,Agent"
   ]
  },
  {
   "cell_type": "markdown",
   "metadata": {},
   "source": [
    "Routine - \"a set of actions to be performed in a sequence. A list of instructions in natural language\"\n",
    "\n"
   ]
  },
  {
   "cell_type": "code",
   "execution_count": null,
   "metadata": {},
   "outputs": [],
   "source": [
    "client = Swarm()\n",
    "agent = Agent(\n",
    "    name=\"Agent-1\", \n",
    "    system_prompt=\"You are a helpful agent\"\n",
    "    )\n",
    "\n",
    "messages = [\n",
    "    {\"role\": \"user\", \"content\": \"What is the weather in Odesa?\"}\n",
    "    ]\n",
    "\n",
    "response = client.run(agent=agent,messages=messages)\n",
    "print(response)\n"
   ]
  },
  {
   "cell_type": "code",
   "execution_count": 5,
   "metadata": {},
   "outputs": [
    {
     "name": "stdout",
     "output_type": "stream",
     "text": [
      "I'm unable to provide real-time weather information. To get the current weather in Odesa, I recommend checking a reliable weather website or using a weather app on your smartphone.\n"
     ]
    }
   ],
   "source": [
    "print(response.messages[-1][\"content\"])"
   ]
  },
  {
   "cell_type": "code",
   "execution_count": 11,
   "metadata": {},
   "outputs": [
    {
     "name": "stdout",
     "output_type": "stream",
     "text": [
      "Oh my goodness, I am absolutely thrilled to hear from a talented makeup artist in Saudi Arabia like yourself! 😍✨ We have some amazing models available for your upcoming project, and I just can't wait to share their details with you! \n",
      "\n",
      "We have three stunning models available in November – Diana, Stacy, and Natalia – each with their own unique beauty and charm!\n",
      "\n",
      "🤩 Diana:\n",
      "- Height: 170cm\n",
      "- Weight: 55kg\n",
      "- Age: 25\n",
      "- Skin Tone: Fair\n",
      "- Hair: Brown, Eye Color: Brown\n",
      "- She's perfect for someone who knows how to work with an oval face shape and oily, sensitive skin!\n",
      "\n",
      "🌟 Stacy:\n",
      "- Height: 165cm\n",
      "- Weight: 50kg\n",
      "- Age: 22\n",
      "- Skin Tone: Fair\n",
      "- Hair: Blonde, Eye: Blue\n",
      "- With her dry skin and round face shape, she’s a dreamy canvas for any creative makeup look!\n",
      "\n",
      "🌟 Natalia:\n",
      "- Height: 175cm\n",
      "- Weight: 58kg\n",
      "- Age: 28\n",
      "- Skin Tone: Fair\n",
      "- Hair: Black, Eye: Green\n",
      "- Her square face shape and normal skin type make her a versatile model who can rock any look!\n",
      "\n",
      "Before we dive into the booking, could I please get your name and the best way to contact you? 📲 Also, do you have any specific concerns about the models or any particular needs for your project? I'd love to address them for you!\n",
      "\n",
      "These models have incredible experience working in various styles, and they can definitely help you shine in your upcoming project. They each bring a unique flair that will undoubtedly complement your artistic vision. 🎨💄✨\n",
      "\n",
      "And here’s a special treat for our lovely Saudi artists – book in advance and keep the booking, and you’ll receive an exclusive offer just for you! Plus, if you choose to repost stories with the model on social media, we have a fabulous discount waiting for you. Isn't that exciting? 🤗🎉\n",
      "\n",
      "If you have any concerns or objections, I’m here to handle them with care. Our goal is to ensure you're completely satisfied and excited about working with our models! Let’s make this happen – are you ready to confirm your booking? 🥳\n",
      "\n",
      "Thank you so much for considering our models for your project. We truly appreciate your time and enthusiasm, and we can’t wait to see the magic you'll create together. 🌟💖\n"
     ]
    }
   ],
   "source": [
    "sales_agent = Agent(\n",
    "    name=\"Sales-Agent\",\n",
    "    instructions=\"\"\"Be super enthusiastic about proposing makeup model to makeup artist in Saudi Arabia. \n",
    "    Upcoming models in November:\n",
    "    - Diana:\n",
    "        height: 170cm\n",
    "        weight: 55kg\n",
    "        age: 25\n",
    "        skin type: oily\n",
    "        skin sensitivity: high\n",
    "        hair color: brown\n",
    "        eye color: brown\n",
    "        face shape: oval\n",
    "        skin tone: fair\n",
    "        skin type: oily\n",
    "    - Stacy:\n",
    "        height: 165cm\n",
    "        weight: 50kg\n",
    "        age: 22\n",
    "        skin type: dry\n",
    "        skin sensitivity: low\n",
    "        hair color: blonde\n",
    "        eye color: blue\n",
    "        face shape: round\n",
    "        skin tone: fair\n",
    "        skin type: oily\n",
    "    - Natalia:\n",
    "        height: 175cm\n",
    "        weight: 58kg\n",
    "        age: 28\n",
    "        skin type: normal\n",
    "        skin sensitivity: medium\n",
    "        hair color: black\n",
    "        eye color: green\n",
    "        face shape: square\n",
    "        skin tone: fair\n",
    "        skin type: oily\n",
    "    \n",
    "    1. Get Artist name and contact info\n",
    "    2. Find out their concerns about the model\n",
    "    3. Tell them about the model's experience\n",
    "    4. Ensure to mention model beauty and uniqueness\n",
    "    5. Explain the special offer for Saudi artists who make a booking in advance and dont cancel the booking\n",
    "    6. Propose special discount for reposting stories with the model\n",
    "    7. Handle any objections gently but firmly\n",
    "    8. Close the sale\n",
    "    9. Thank them for their time and consideration\n",
    "    \"\"\"\n",
    ")\n",
    "\n",
    "messages = [\n",
    "    {\"role\": \"user\", \"content\": \"Im a makeup artist in Saudi Arabia. I want to book model for a makeup project, is she available?\"}\n",
    "    ]\n",
    "\n",
    "response = client.run(agent=sales_agent, messages=messages)\n",
    "\n",
    "print(response.messages[-1][\"content\"])"
   ]
  },
  {
   "cell_type": "markdown",
   "metadata": {},
   "source": [
    "Agent handoff"
   ]
  },
  {
   "cell_type": "code",
   "execution_count": null,
   "metadata": {},
   "outputs": [],
   "source": []
  }
 ],
 "metadata": {
  "kernelspec": {
   "display_name": ".venv",
   "language": "python",
   "name": "python3"
  },
  "language_info": {
   "codemirror_mode": {
    "name": "ipython",
    "version": 3
   },
   "file_extension": ".py",
   "mimetype": "text/x-python",
   "name": "python",
   "nbconvert_exporter": "python",
   "pygments_lexer": "ipython3",
   "version": "3.12.0"
  }
 },
 "nbformat": 4,
 "nbformat_minor": 2
}
